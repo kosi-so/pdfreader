{
 "cells": [
  {
   "cell_type": "code",
   "execution_count": 22,
   "metadata": {},
   "outputs": [],
   "source": [
    "# Import Libraries \n",
    "import openai\n",
    "import langchain\n",
    "import pinecone\n",
    "from langchain.document_loaders import PyPDFDirectoryLoader\n",
    "from langchain.text_splitter import RecursiveCharacterTextSplitter\n",
    "from langchain_openai import OpenAIEmbeddings\n",
    "from langchain_community.vectorstores import Pinecone\n",
    "from langchain.llms import OpenAI\n",
    "import os "
   ]
  },
  {
   "cell_type": "code",
   "execution_count": 23,
   "metadata": {},
   "outputs": [
    {
     "data": {
      "text/plain": [
       "True"
      ]
     },
     "execution_count": 23,
     "metadata": {},
     "output_type": "execute_result"
    }
   ],
   "source": [
    "from dotenv import load_dotenv\n",
    "load_dotenv()"
   ]
  },
  {
   "cell_type": "markdown",
   "metadata": {},
   "source": [
    "## Read the document "
   ]
  },
  {
   "cell_type": "code",
   "execution_count": 24,
   "metadata": {},
   "outputs": [],
   "source": [
    "def read_doc (directory):\n",
    "    file_loader = PyPDFDirectoryLoader(directory)\n",
    "    document = file_loader.load()\n",
    "    return document\n",
    "\n"
   ]
  },
  {
   "cell_type": "code",
   "execution_count": 25,
   "metadata": {},
   "outputs": [
    {
     "data": {
      "text/plain": [
       "72"
      ]
     },
     "execution_count": 25,
     "metadata": {},
     "output_type": "execute_result"
    }
   ],
   "source": [
    "doc = read_doc(\"documents/\")\n",
    "len(doc)"
   ]
  },
  {
   "cell_type": "markdown",
   "metadata": {},
   "source": [
    "## Divide Document into chunks "
   ]
  },
  {
   "cell_type": "code",
   "execution_count": 26,
   "metadata": {},
   "outputs": [],
   "source": [
    "def chunk_data (docs, chunk_size=800, chunk_overlap=50):\n",
    "    text_splitter = RecursiveCharacterTextSplitter(chunk_size=chunk_size, chunk_overlap=chunk_overlap)\n",
    "    doc =text_splitter.split_documents(docs)\n",
    "    return docs"
   ]
  },
  {
   "cell_type": "code",
   "execution_count": 27,
   "metadata": {},
   "outputs": [
    {
     "data": {
      "text/plain": [
       "72"
      ]
     },
     "execution_count": 27,
     "metadata": {},
     "output_type": "execute_result"
    }
   ],
   "source": [
    "documents = chunk_data(docs=doc)\n",
    "len(documents)"
   ]
  },
  {
   "cell_type": "markdown",
   "metadata": {},
   "source": [
    "## Embedd the Chunks of Document"
   ]
  },
  {
   "cell_type": "code",
   "execution_count": 28,
   "metadata": {},
   "outputs": [],
   "source": [
    "embeddings = OpenAIEmbeddings(api_key=os.environ['OPENAI_API_KEY'])"
   ]
  },
  {
   "cell_type": "code",
   "execution_count": 29,
   "metadata": {},
   "outputs": [],
   "source": [
    "vectors=embeddings.embed_query(\"How are you\")"
   ]
  },
  {
   "cell_type": "code",
   "execution_count": 30,
   "metadata": {},
   "outputs": [
    {
     "data": {
      "text/plain": [
       "1536"
      ]
     },
     "execution_count": 30,
     "metadata": {},
     "output_type": "execute_result"
    }
   ],
   "source": [
    "len(vectors)"
   ]
  },
  {
   "cell_type": "markdown",
   "metadata": {},
   "source": [
    "## Vector Search DB in Pinecone "
   ]
  },
  {
   "cell_type": "code",
   "execution_count": 32,
   "metadata": {},
   "outputs": [],
   "source": [
    "os.environ[\"PINECONE_API_KEY\"]\n",
    "\n",
    "index_name = \"llm-app\""
   ]
  },
  {
   "cell_type": "code",
   "execution_count": 76,
   "metadata": {},
   "outputs": [],
   "source": [
    "vector_db = Pinecone.from_documents(\n",
    "        documents = documents, \n",
    "        embedding = OpenAIEmbeddings(), \n",
    "        index_name = \"llm-app\",)"
   ]
  },
  {
   "cell_type": "markdown",
   "metadata": {},
   "source": [
    "## Retrieve results with Cosine Similarity"
   ]
  },
  {
   "cell_type": "code",
   "execution_count": 77,
   "metadata": {},
   "outputs": [],
   "source": [
    "def retrieve_query(query, k=2):\n",
    "    matching_result = vector_db.similarity_search(query, k=k)\n",
    "    return matching_result"
   ]
  },
  {
   "cell_type": "code",
   "execution_count": 78,
   "metadata": {},
   "outputs": [],
   "source": [
    "from langchain.chains.question_answering import load_qa_chain\n",
    "from langchain_openai import OpenAI\n"
   ]
  },
  {
   "cell_type": "code",
   "execution_count": 79,
   "metadata": {},
   "outputs": [],
   "source": [
    "llm =OpenAI(model=\"gpt-3.5-turbo-instruct\", temperature=0.6)\n",
    "chain = load_qa_chain(llm, chain_type='stuff')"
   ]
  },
  {
   "cell_type": "markdown",
   "metadata": {},
   "source": [
    "## Search for answers "
   ]
  },
  {
   "cell_type": "code",
   "execution_count": 80,
   "metadata": {},
   "outputs": [],
   "source": [
    "def retrieve_answers(query):\n",
    "    doc_search = retrieve_query(query)\n",
    "    print(doc_search)\n",
    "    response = chain.run(input_documents=doc_search, question=query)\n",
    "    return response"
   ]
  },
  {
   "cell_type": "code",
   "execution_count": 83,
   "metadata": {},
   "outputs": [
    {
     "name": "stdout",
     "output_type": "stream",
     "text": [
      "[Document(metadata={'page': 22.0, 'source': 'documents\\\\Obi-BabaAhmed-Manifesto-23.pdf'}, page_content='XI. Although non-oil  GDP has been marginally increasing in recent years, this \\ngrowth has not translated to increased non-oil exports, despite various national \\npolicies on economic diversification. We believe that diversification of the \\neconomy can be attained through increasing the value addition and export \\npotential of our agriculture and natural resources value chain.  We shall achieve \\nthis through targeted export incentives and deliberate actions in: \\na. Scaling up the development of manufacturing and processing \\ntechnological capabilities across the primary products value chains where \\nwe enjoy comparative advantage;\\nb. A monitored scheme of targeted funding to entrepreneurs taking \\nadvantage of the capacity development as outlined above.\\nc.  A radical  reform of our logistics and distribution systems including ports, \\ncustoms, and trade facilitation instruments to raise the competitiveness of \\nour products and ease of doing business and reduces high trade costs that \\nhave impeded our non-oil export competitiveness.  \\nd.  Strengthening of product quality support to ensure our products are of \\nthe right quality to gain market share with higher reputational advantage and \\nbranding opportunities to capture more values within AfCTA and global \\nmarkets.\\ne. Incentivising and investing in agro-cluster and industrial cluster \\ndevelopment across our geo-resource zones to take advantage of \\nagglomeration and scale effects.\\nShift emphasis from consumption to production by running a \\nproduction-centered economy that is driven by an agrarian \\nrevolution and export-oriented industrialization.\\n23.\\nobi/baba-ahmed 2023'), Document(metadata={'page': 22.0, 'source': 'documents\\\\Obi-BabaAhmed-Manifesto-23.pdf'}, page_content='XI. Although non-oil  GDP has been marginally increasing in recent years, this \\ngrowth has not translated to increased non-oil exports, despite various national \\npolicies on economic diversification. We believe that diversification of the \\neconomy can be attained through increasing the value addition and export \\npotential of our agriculture and natural resources value chain.  We shall achieve \\nthis through targeted export incentives and deliberate actions in: \\na. Scaling up the development of manufacturing and processing \\ntechnological capabilities across the primary products value chains where \\nwe enjoy comparative advantage;\\nb. A monitored scheme of targeted funding to entrepreneurs taking \\nadvantage of the capacity development as outlined above.\\nc.  A radical  reform of our logistics and distribution systems including ports, \\ncustoms, and trade facilitation instruments to raise the competitiveness of \\nour products and ease of doing business and reduces high trade costs that \\nhave impeded our non-oil export competitiveness.  \\nd.  Strengthening of product quality support to ensure our products are of \\nthe right quality to gain market share with higher reputational advantage and \\nbranding opportunities to capture more values within AfCTA and global \\nmarkets.\\ne. Incentivising and investing in agro-cluster and industrial cluster \\ndevelopment across our geo-resource zones to take advantage of \\nagglomeration and scale effects.\\nShift emphasis from consumption to production by running a \\nproduction-centered economy that is driven by an agrarian \\nrevolution and export-oriented industrialization.\\n23.\\nobi/baba-ahmed 2023')]\n"
     ]
    }
   ],
   "source": [
    "our_query = \"How do they plan on diversifying the economy\"\n",
    "answer= retrieve_answers(our_query)\n"
   ]
  },
  {
   "cell_type": "code",
   "execution_count": 85,
   "metadata": {},
   "outputs": [
    {
     "name": "stdout",
     "output_type": "stream",
     "text": [
      " They plan on increasing the value addition and export potential of agriculture and natural resources, scaling up manufacturing and processing capabilities, providing targeted funding to entrepreneurs, reforming logistics and distribution systems, strengthening product quality support, and investing in agro-cluster and industrial cluster development. They also plan on shifting emphasis from consumption to production and running a production-centered economy driven by an agrarian revolution and export-oriented industrialization.\n"
     ]
    }
   ],
   "source": [
    "print(answer)"
   ]
  },
  {
   "cell_type": "code",
   "execution_count": null,
   "metadata": {},
   "outputs": [],
   "source": []
  }
 ],
 "metadata": {
  "kernelspec": {
   "display_name": "Python 3",
   "language": "python",
   "name": "python3"
  },
  "language_info": {
   "codemirror_mode": {
    "name": "ipython",
    "version": 3
   },
   "file_extension": ".py",
   "mimetype": "text/x-python",
   "name": "python",
   "nbconvert_exporter": "python",
   "pygments_lexer": "ipython3",
   "version": "3.12.4"
  }
 },
 "nbformat": 4,
 "nbformat_minor": 2
}
